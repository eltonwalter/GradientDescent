{
 "cells": [
  {
   "cell_type": "code",
   "execution_count": 1,
   "metadata": {
    "collapsed": true
   },
   "outputs": [],
   "source": [
    "def readFile(filename):\n",
    "    age_raw = []\n",
    "    distance_raw = []\n",
    "    m = 0\n",
    "    with open(filename,'r') as file_to_read:\n",
    "        file_to_read.readline()\n",
    "        while True:    \n",
    "            lines = file_to_read.readline()\n",
    "            if not lines:\n",
    "                break\n",
    "            m += 1\n",
    "            age_tmp, dis_tmp = [int(i) for i in lines.split()] \n",
    "            age_raw.append(age_tmp)  \n",
    "            distance_raw.append(dis_tmp)\n",
    "            age = [(i-18)/64 for i in age_raw]\n",
    "            distance = [(i-280)/310 for i in distance_raw]\n",
    "    #print('member:',m)\n",
    "    #print('age:',age)\n",
    "    #print('distance:',distance)\n",
    "    return m,age,distance"
   ]
  },
  {
   "cell_type": "code",
   "execution_count": 2,
   "metadata": {
    "collapsed": true
   },
   "outputs": [],
   "source": [
    "def plotPot(age,distance,theta_0,theta_1):\n",
    "    plt.scatter(age,distance)\n",
    "    x = np.linspace(0,1,10)\n",
    "    y = theta_0 + theta_1 * x\n",
    "    plt.plot(x,y,color='blue')\n",
    "    plt.xlabel('age')\n",
    "    plt.ylabel('distance')\n",
    "    plt.show()"
   ]
  },
  {
   "cell_type": "code",
   "execution_count": 3,
   "metadata": {
    "collapsed": true
   },
   "outputs": [],
   "source": [
    "def reshapeData(age,distance):\n",
    "    X = np.matrix(age)\n",
    "    y = np.matrix(distance)\n",
    "    X = X.reshape(-1,1)\n",
    "    y = y.reshape(-1,1)\n",
    "    return X,y"
   ]
  },
  {
   "cell_type": "code",
   "execution_count": 4,
   "metadata": {
    "collapsed": true
   },
   "outputs": [],
   "source": [
    "def computeCost(X,y,theta_0,theta_1):\n",
    "    square_loss = np.power((theta_0 + X*theta_1 - y),2)\n",
    "    loss = 1/(2*m)*np.sum(square_loss)\n",
    "    print('cost:',loss)\n",
    "    return loss"
   ]
  },
  {
   "cell_type": "code",
   "execution_count": 7,
   "metadata": {},
   "outputs": [],
   "source": [
    "def gradientDescent(X,y,theta_0,theta_1,lr,epsilon):\n",
    "    loss = 5\n",
    "    while loss > epsilon:\n",
    "        single_loss = theta_0 + X*theta_1 - y\n",
    "        delta_theta_0 = (1/m)*np.sum(single_loss)\n",
    "        delta_theta_1 = (1/m)*np.sum(np.multiply(single_loss,X))\n",
    "        temp_0 = theta_0-lr*delta_theta_0\n",
    "        temp_1 = theta_1-lr*delta_theta_1\n",
    "        theta_0 = temp_0\n",
    "        theta_1 = temp_1\n",
    "        loss = computeCost(X,y,theta_0,theta_1)\n",
    "    #print(\"cost:\",loss)\n",
    "    return theta_0,theta_1"
   ]
  },
  {
   "cell_type": "code",
   "execution_count": 8,
   "metadata": {},
   "outputs": [
    {
     "name": "stdout",
     "output_type": "stream",
     "text": [
      "cost: 0.05071478450449232\n",
      "cost: 0.03849675105631308\n",
      "cost: 0.03361478334960804\n",
      "cost: 0.02999243096338044\n",
      "cost: 0.027008968970934185\n",
      "cost: 0.024523540592955258\n",
      "cost: 0.022450590468886266\n",
      "cost: 0.020721459118974325\n",
      "cost: 0.01927910349536557\n",
      "cost: 0.018075960487832617\n",
      "cost: 0.017072356901465847\n",
      "cost: 0.016235199418945304\n",
      "cost: 0.015536883210274575\n",
      "cost: 0.01495438166482145\n",
      "cost: 0.014468487099799593\n",
      "cost: 0.014063177396913833\n",
      "cost: 0.013725087681409455\n",
      "cost: 0.013443069622340072\n",
      "cost: 0.013207823822205006\n",
      "cost: 0.01301159317419685\n",
      "cost: 0.012847907075675251\n",
      "cost: 0.012711368063440483\n",
      "cost: 0.0125974738352169\n",
      "cost: 0.012502468788598132\n",
      "cost: 0.012423220182028566\n",
      "cost: 0.012357114834294575\n",
      "cost: 0.012301972956245329\n",
      "cost: 0.012255976273389452\n",
      "cost: 0.012217608069247859\n",
      "cost: 0.012185603172423808\n",
      "cost: 0.012158906238240027\n",
      "cost: 0.012136636949301782\n",
      "cost: 0.012118060987492804\n",
      "cost: 0.012102565820220712\n",
      "cost: 0.012089640502476235\n",
      "cost: 0.012078858828689703\n",
      "cost: 0.012069865278825987\n",
      "cost: 0.012062363295297963\n",
      "cost: 0.012056105504135673\n",
      "cost: 0.012050885557959499\n",
      "cost: 0.012046531331783603\n",
      "cost: 0.012042899247284834\n",
      "cost: 0.012039869538382897\n",
      "cost: 0.01203734230201667\n",
      "cost: 0.012035234203893212\n",
      "cost: 0.012033475730583202\n",
      "cost: 0.012032008897352044\n",
      "cost: 0.012030785336143704\n",
      "cost: 0.012029764700669437\n",
      "theta_0: 0.777097637151796   theta_1: -0.6112888755176317\n"
     ]
    },
    {
     "data": {
      "image/png": "[encoded data removed]",
      "text/plain": [
       "<Figure size 432x288 with 1 Axes>"
      ]
     },
     "metadata": {},
     "output_type": "display_data"
    }
   ],
   "source": [
    "import numpy as np\n",
    "import matplotlib.pyplot as plt\n",
    "\n",
    "filename = \"4-data.txt\"\n",
    "theta_0 = 0\n",
    "theta_1 = 0\n",
    "lr = 1\n",
    "epsilon = 0.01203\n",
    "\n",
    "m,age,distance = readFile(filename)\n",
    "X,y = reshapeData(age,distance)\n",
    "theta_0,theta_1 = gradientDescent(X,y,theta_0,theta_1,lr,epsilon)\n",
    "print('theta_0:',theta_0,'  theta_1:',theta_1)\n",
    "plotPot(age,distance,theta_0,theta_1)"
   ]
  },
  {
   "cell_type": "code",
   "execution_count": null,
   "metadata": {
    "collapsed": true
   },
   "outputs": [],
   "source": []
  }
 ],
 "metadata": {
  "kernelspec": {
   "display_name": "Python 3",
   "language": "python",
   "name": "python3"
  }
 },
 "nbformat": 4,
 "nbformat_minor": 2
}
