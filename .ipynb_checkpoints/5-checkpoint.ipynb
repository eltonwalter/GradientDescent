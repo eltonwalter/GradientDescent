{
 "cells": [
  {
   "cell_type": "code",
   "execution_count": 136,
   "metadata": {
    "collapsed": true
   },
   "outputs": [],
   "source": [
    "def readFile(filename):\n",
    "    age_raw = []\n",
    "    distance_raw = []\n",
    "    m = 0\n",
    "    with open(filename,'r') as file_to_read:\n",
    "        file_to_read.readline()\n",
    "        while True:    \n",
    "            lines = file_to_read.readline()\n",
    "            if not lines:\n",
    "                break\n",
    "            m += 1\n",
    "            age_tmp, dis_tmp = [int(i) for i in lines.split()] \n",
    "            age_raw.append(age_tmp)  \n",
    "            distance_raw.append(dis_tmp)\n",
    "            age = [(i-18)/64 for i in age_raw]\n",
    "            distance = [(i-280)/310 for i in distance_raw]\n",
    "    #print('member:',m)\n",
    "    #print('age:',age)\n",
    "    #print('distance:',distance)\n",
    "    return m,age,distance"
   ]
  },
  {
   "cell_type": "code",
   "execution_count": 137,
   "metadata": {
    "collapsed": true
   },
   "outputs": [],
   "source": [
    "def plotPot(age,distance,theta_0,theta_1,theta_00,theta_11):\n",
    "    plt.scatter(age,distance)\n",
    "    x = np.linspace(0,1,10)\n",
    "    y = theta_0 + theta_1 * x\n",
    "    x2 = np.linspace(0,1,10)\n",
    "    y2 = theta_00 + theta_11 * x\n",
    "    plt.plot(x,y,color='blue',label='square loss')\n",
    "    plt.plot(x2,y2,color='red',label='my loss')\n",
    "    plt.legend(loc='upper right')\n",
    "    plt.xlabel('age')\n",
    "    plt.ylabel('distance')\n",
    "    plt.show()"
   ]
  },
  {
   "cell_type": "code",
   "execution_count": 138,
   "metadata": {
    "collapsed": true
   },
   "outputs": [],
   "source": [
    "def reshapeData(age,distance):\n",
    "    X = np.matrix(age)\n",
    "    y = np.matrix(distance)\n",
    "    X = X.reshape(-1,1)\n",
    "    y = y.reshape(-1,1)\n",
    "    return X,y"
   ]
  },
  {
   "cell_type": "code",
   "execution_count": 139,
   "metadata": {
    "collapsed": true
   },
   "outputs": [],
   "source": [
    "def computeCost(X,y,theta_0,theta_1):\n",
    "    square_loss = np.power((theta_0 + X*theta_1 - y),2)\n",
    "    loss = 1/(2*m)*np.sum(square_loss)\n",
    "    #print('cost:',loss)\n",
    "    return loss"
   ]
  },
  {
   "cell_type": "code",
   "execution_count": 140,
   "metadata": {},
   "outputs": [],
   "source": [
    "def computeCost2(X,y,theta_0,theta_1,delta):\n",
    "    error = theta_0 + X*theta_1 - y\n",
    "    for i in range(len(error)):\n",
    "        if abs(error[i]) <= delta:\n",
    "            error[i] = (1/2)*(error[i]**2)\n",
    "        else: \n",
    "            error[i] = delta*delta\n",
    "    huber_loss = 1/(m)*np.sum(error)\n",
    "    return huber_loss"
   ]
  },
  {
   "cell_type": "code",
   "execution_count": 141,
   "metadata": {
    "collapsed": true
   },
   "outputs": [],
   "source": [
    "def gradientDescent(X,y,theta_0,theta_1,lr):\n",
    "    loss = 5\n",
    "    for i in range(100):\n",
    "        error = theta_0 + X*theta_1 - y\n",
    "        delta_theta_0 = (1/m)*np.sum(error)\n",
    "        delta_theta_1 = (1/m)*np.sum(np.multiply(error,X))\n",
    "        temp_0 = theta_0-lr*delta_theta_0\n",
    "        temp_1 = theta_1-lr*delta_theta_1\n",
    "        theta_0 = temp_0\n",
    "        theta_1 = temp_1\n",
    "        loss = computeCost(X,y,theta_0,theta_1)\n",
    "    #print(\"cost:\",loss)\n",
    "    return theta_0,theta_1,loss"
   ]
  },
  {
   "cell_type": "code",
   "execution_count": 142,
   "metadata": {},
   "outputs": [],
   "source": [
    "def gradientDescent2(X,y,theta_0,theta_1,lr,delta):\n",
    "    loss = 5\n",
    "    for i in range(100):\n",
    "        error = theta_0 + X*theta_1 - y\n",
    "        error_0 = []\n",
    "        error_1 = []\n",
    "        for i in range(len(error)):\n",
    "            if error[i] <= -delta:\n",
    "                error_0.append(0)\n",
    "                error_1.append(0)\n",
    "            elif error[i] >= delta: \n",
    "                error_0.append(0)\n",
    "                error_1.append(0)\n",
    "            else:\n",
    "                error_0.append(error[i])\n",
    "                error_1.append(error[i]*X[i])\n",
    "        delta_theta_0 = float((1/m)*np.sum(error_0))\n",
    "        delta_theta_1 = float((1/m)*np.sum(error_1))\n",
    "        temp_0 = theta_0-lr*delta_theta_0\n",
    "        temp_1 = theta_1-lr*delta_theta_1\n",
    "        theta_0 = temp_0\n",
    "        theta_1 = temp_1\n",
    "        loss = computeCost2(X,y,theta_0,theta_1,delta)    \n",
    "    #print(\"cost:\",loss)\n",
    "    return theta_0,theta_1,loss"
   ]
  },
  {
   "cell_type": "code",
   "execution_count": 144,
   "metadata": {
    "scrolled": true
   },
   "outputs": [
    {
     "name": "stdout",
     "output_type": "stream",
     "text": [
      "theta_0: 0.7354964083850328   theta_1: -0.4274520557012236\n",
      "theta_00: 0.7742374789169186   theta_11: -0.6315207583755391\n"
     ]
    },
    {
     "data": {
      "image/png": "[encoded data removed]",
      "text/plain": [
       "<Figure size 432x288 with 1 Axes>"
      ]
     },
     "metadata": {},
     "output_type": "display_data"
    },
    {
     "name": "stdout",
     "output_type": "stream",
     "text": [
      "loss1: 0.009681817708514144\n",
      "loss2: 0.002791781331853347\n"
     ]
    },
    {
     "data": {
      "image/png": "[encoded data removed]",
      "text/plain": [
       "<Figure size 432x288 with 1 Axes>"
      ]
     },
     "metadata": {},
     "output_type": "display_data"
    }
   ],
   "source": [
    "import numpy as np\n",
    "import matplotlib.pyplot as plt\n",
    "\n",
    "filename = \"trainingdata.txt\"\n",
    "theta_0 = 0\n",
    "theta_1 = 0\n",
    "theta_00 = 0\n",
    "theta_11 = 0\n",
    "lr = 1\n",
    "delta = 0.3\n",
    "\n",
    "m,age,distance = readFile(filename)  #train\n",
    "X,y = reshapeData(age,distance)\n",
    "theta_0,theta_1,loss = gradientDescent(X,y,theta_0,theta_1,lr)\n",
    "theta_00,theta_11,loss2 = gradientDescent2(X,y,theta_00,theta_11,lr,delta)\n",
    "print('theta_0:',theta_0,'  theta_1:',theta_1)\n",
    "print('theta_00:',theta_00,'  theta_11:',theta_11)\n",
    "plotPot(age,distance,theta_0,theta_1,theta_00,theta_11)\n",
    "\n",
    "filename = \"5-testdata.txt\"          #test\n",
    "m,age,distance = readFile(filename)\n",
    "X,y = reshapeData(age,distance)\n",
    "loss = computeCost(X,y,theta_0,theta_1)\n",
    "loss2 = computeCost2(X,y,theta_00,theta_11,delta)\n",
    "print(\"loss1:\",loss)\n",
    "print(\"loss2:\",loss2)\n",
    "plotPot(age,distance,theta_0,theta_1,theta_00,theta_11)"
   ]
  },
  {
   "cell_type": "code",
   "execution_count": null,
   "metadata": {
    "collapsed": true
   },
   "outputs": [],
   "source": []
  }
 ],
 "metadata": {
  "kernelspec": {
   "display_name": "Python 3",
   "language": "python",
   "name": "python3"
  },
  "language_info": {
   "codemirror_mode": {
    "name": "ipython",
    "version": 3
   },
   "file_extension": ".py",
   "mimetype": "text/x-python",
   "name": "python",
   "nbconvert_exporter": "python",
   "pygments_lexer": "ipython3",
   "version": "3.6.3"
  }
 },
 "nbformat": 4,
 "nbformat_minor": 2
}
