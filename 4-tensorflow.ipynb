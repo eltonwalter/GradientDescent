{
 "cells": [
  {
   "cell_type": "code",
   "execution_count": 2,
   "metadata": {},
   "outputs": [
    {
     "name": "stdout",
     "output_type": "stream",
     "text": [
      "member: 30\n",
      "age: [0.0, 0.03125, 0.0625, 0.078125, 0.078125, 0.109375, 0.140625, 0.15625, 0.171875, 0.21875, 0.296875, 0.359375, 0.4375, 0.484375, 0.546875, 0.578125, 0.703125, 0.734375, 0.75, 0.765625, 0.78125, 0.8125, 0.828125, 0.84375, 0.859375, 0.875, 0.890625, 0.921875, 0.953125, 1.0]\n",
      "distance: [0.7419354838709677, 1.0, 0.9032258064516129, 0.7419354838709677, 0.5806451612903226, 0.6774193548387096, 0.9032258064516129, 0.7419354838709677, 0.5806451612903226, 0.41935483870967744, 0.45161290322580644, 0.5806451612903226, 0.5483870967741935, 0.3225806451612903, 0.5806451612903226, 0.45161290322580644, 0.22580645161290322, 0.45161290322580644, 0.06451612903225806, 0.41935483870967744, 0.06451612903225806, 0.3548387096774194, 0.12903225806451613, 0.2903225806451613, 0.0, 0.45161290322580644, 0.5806451612903226, 0.25806451612903225, 0.0967741935483871, 0.25806451612903225]\n"
     ]
    }
   ],
   "source": [
    "#读取数据\n",
    "filename='4-data.txt'\n",
    "age_raw = []\n",
    "distance_raw = []\n",
    "m = 0\n",
    "with open(filename,'r') as file_to_read:\n",
    "    file_to_read.readline()\n",
    "    while True:    \n",
    "        lines = file_to_read.readline()\n",
    "        if not lines:\n",
    "            break\n",
    "        m += 1\n",
    "        age_tmp, dis_tmp = [int(i) for i in lines.split()] \n",
    "        age_raw.append(age_tmp)  \n",
    "        distance_raw.append(dis_tmp)\n",
    "        age = [(i-18)/64 for i in age_raw]\n",
    "        distance = [(i-280)/310 for i in distance_raw]\n",
    "print('member:',m)\n",
    "print('age:',age)\n",
    "print('distance:',distance)\n",
    "X_data = np.matrix(age)\n",
    "y_data = np.matrix(distance)\n",
    "X_data = X_data.reshape(-1,1)\n",
    "y_data = y_data.reshape(-1,1)"
   ]
  },
  {
   "cell_type": "code",
   "execution_count": 3,
   "metadata": {},
   "outputs": [
    {
     "name": "stdout",
     "output_type": "stream",
     "text": [
      "step: name: \"GradientDescent\"\n",
      "op: \"NoOp\"\n",
      "input: \"^GradientDescent/update_Variable_2/ApplyGradientDescent\"\n",
      "input: \"^GradientDescent/update_Variable_3/ApplyGradientDescent\"\n",
      "\n",
      "WARNING:tensorflow:From D:\\Anaconda\\lib\\site-packages\\tensorflow\\python\\util\\tf_should_use.py:118: initialize_all_variables (from tensorflow.python.ops.variables) is deprecated and will be removed after 2017-03-02.\n",
      "Instructions for updating:\n",
      "Use `tf.global_variables_initializer` instead.\n"
     ]
    },
    {
     "ename": "NameError",
     "evalue": "name 'train' is not defined",
     "output_type": "error",
     "traceback": [
      "\u001b[1;31m---------------------------------------------------------------------------\u001b[0m",
      "\u001b[1;31mNameError\u001b[0m                                 Traceback (most recent call last)",
      "\u001b[1;32m<ipython-input-3-454e9145a7c3>\u001b[0m in \u001b[0;36m<module>\u001b[1;34m()\u001b[0m\n\u001b[0;32m     20\u001b[0m \u001b[1;31m# 拟合直线\u001b[0m\u001b[1;33m\u001b[0m\u001b[1;33m\u001b[0m\u001b[0m\n\u001b[0;32m     21\u001b[0m \u001b[1;32mfor\u001b[0m \u001b[0mstep\u001b[0m \u001b[1;32min\u001b[0m \u001b[0mrange\u001b[0m\u001b[1;33m(\u001b[0m\u001b[1;36m0\u001b[0m\u001b[1;33m,\u001b[0m \u001b[1;36m101\u001b[0m\u001b[1;33m)\u001b[0m\u001b[1;33m:\u001b[0m\u001b[1;33m\u001b[0m\u001b[0m\n\u001b[1;32m---> 22\u001b[1;33m     \u001b[0msess\u001b[0m\u001b[1;33m.\u001b[0m\u001b[0mrun\u001b[0m\u001b[1;33m(\u001b[0m\u001b[0mtrain\u001b[0m\u001b[1;33m)\u001b[0m\u001b[1;33m\u001b[0m\u001b[0m\n\u001b[0m\u001b[0;32m     23\u001b[0m     \u001b[1;32mif\u001b[0m \u001b[0mstep\u001b[0m \u001b[1;33m%\u001b[0m \u001b[1;36m20\u001b[0m \u001b[1;33m==\u001b[0m \u001b[1;36m0\u001b[0m\u001b[1;33m:\u001b[0m\u001b[1;33m\u001b[0m\u001b[0m\n\u001b[0;32m     24\u001b[0m         \u001b[0mtheta_1\u001b[0m \u001b[1;33m=\u001b[0m \u001b[0msess\u001b[0m\u001b[1;33m.\u001b[0m\u001b[0mrun\u001b[0m\u001b[1;33m(\u001b[0m\u001b[0mW\u001b[0m\u001b[1;33m)\u001b[0m\u001b[1;33m\u001b[0m\u001b[0m\n",
      "\u001b[1;31mNameError\u001b[0m: name 'train' is not defined"
     ]
    }
   ],
   "source": [
    "import tensorflow as tf\n",
    "import numpy as np\n",
    "\n",
    "#搭建线性模型\n",
    "b = tf.Variable(tf.zeros(1))\n",
    "W = tf.Variable(tf.zeros(1))\n",
    "y = W * X_data + b\n",
    "#最小化方差,训练网络\n",
    "loss = tf.reduce_mean(tf.square(y - y_data))\n",
    "optimizer = tf.train.GradientDescentOptimizer(0.5)\n",
    "step = optimizer.minimize(loss)\n",
    "print('step:',step)\n",
    "# 初始化变量\n",
    "init = tf.initialize_all_variables()\n",
    "\n",
    "# 启动图 (graph)\n",
    "sess = tf.Session()\n",
    "sess.run(init)\n",
    "\n",
    "# 拟合直线\n",
    "for step in range(0, 101):\n",
    "    sess.run(train)\n",
    "    if step % 20 == 0:\n",
    "        theta_1 = sess.run(W)\n",
    "        theta_0 = sess.run(b)\n",
    "        print(step) \n",
    "print('W:',theta_1)\n",
    "print('b:',theta_0)"
   ]
  },
  {
   "cell_type": "code",
   "execution_count": 7,
   "metadata": {},
   "outputs": [
    {
     "data": {
      "image/png": "[encoded data removed]",
      "text/plain": [
       "<Figure size 432x288 with 1 Axes>"
      ]
     },
     "metadata": {},
     "output_type": "display_data"
    }
   ],
   "source": [
    "import matplotlib.pyplot as plt\n",
    "plt.scatter(age,distance)\n",
    "x1 = np.linspace(0,1,10)\n",
    "y1 = theta_0 + theta_1 * x1\n",
    "plt.plot(x1,y1,color='blue')\n",
    "plt.xlabel('age')\n",
    "plt.ylabel('distance')\n",
    "plt.show()"
   ]
  },
  {
   "cell_type": "code",
   "execution_count": null,
   "metadata": {
    "collapsed": true
   },
   "outputs": [],
   "source": []
  },
  {
   "cell_type": "code",
   "execution_count": null,
   "metadata": {
    "collapsed": true
   },
   "outputs": [],
   "source": []
  }
 ],
 "metadata": {
  "kernelspec": {
   "display_name": "Python 3",
   "language": "python",
   "name": "python3"
  },
  "language_info": {
   "codemirror_mode": {
    "name": "ipython",
    "version": 3
   },
   "file_extension": ".py",
   "mimetype": "text/x-python",
   "name": "python",
   "nbconvert_exporter": "python",
   "pygments_lexer": "ipython3",
   "version": "3.6.3"
  }
 },
 "nbformat": 4,
 "nbformat_minor": 2
}
